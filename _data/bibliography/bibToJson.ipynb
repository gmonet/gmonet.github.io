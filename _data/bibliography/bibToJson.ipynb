{
 "cells": [
  {
   "cell_type": "code",
   "execution_count": 18,
   "metadata": {},
   "outputs": [],
   "source": [
    "import bibtexparser\n",
    "import json"
   ]
  },
  {
   "cell_type": "code",
   "execution_count": 17,
   "metadata": {},
   "outputs": [
    {
     "name": "stdout",
     "output_type": "stream",
     "text": [
      "[{'url': 'http://doi.org/10.1063/5.0056430', 'doi': '10.1063/5.0056430', 'journal': 'The Journal of Chemical Physics', 'year': '2021', 'author': 'Geoffrey Monet and Hélène Berthoumieux and Geoffrey Monet and Ralf Blossey', 'title': 'Dipolar Poisson models in a dual view', 'ENTRYTYPE': 'article', 'ID': 'Geoffrey_Monet_96851714'}, {'url': 'https://doi.org/10.1021%2Facs.jpcc.1c02852', 'doi': '10.1021/acs.jpcc.1c02852', 'pages': '12414--12423', 'number': '22', 'volume': '125', 'publisher': 'American Chemical Society ({ACS})', 'journal': 'The Journal of Physical Chemistry C', 'month': 'jun', 'year': '2021', 'author': 'Geoffrey Monet and Stéphan Rouzière and Delphine Vantelon and Cristina Coelho Diogo and David Maurin and Jean-Louis Bantignies and Pascale Launois and Erwan Paineau', 'title': 'Mechanisms of Structural Reordering During Thermal Transformation of Aluminogermanate Imogolite Nanotubes', 'ENTRYTYPE': 'article', 'ID': 'Monet_2021b'}, {'url': 'https://doi.org/10.1103%2Fphysrevlett.126.216001', 'doi': '10.1103/physrevlett.126.216001', 'number': '21', 'volume': '126', 'publisher': 'American Physical Society ({APS})', 'journal': 'Physical Review Letters', 'month': 'may', 'year': '2021', 'author': 'G. Monet and H. Berthoumieux and F. Bresme and A. Kornyshev', 'title': 'Nonlocal Dielectric Response of Water in Nanoconfinement', 'ENTRYTYPE': 'article', 'ID': 'Monet_2021a'}, {'url': 'https://doi.org/10.1039%2Fd0na00128g', 'doi': '10.1039/d0na00128g', 'publisher': 'Royal Society of Chemistry ({RSC})', 'journal': 'Nanoscale Advances', 'year': '2020', 'author': 'Geoffrey Monet and Erwan Paineau and Ziwei Chai and Mohamed S. Amara and Andrea Orecchini and Monica Jimenèz-Ruiz and Alicia Ruiz-Caridad and Lucas Fine and Stéphan Rouzière and Li-Min Liu and Gilberto Teobaldi and Stéphane Rols and Pascale Launois', 'title': 'Solid wetting-layers in inorganic nano-reactors: the water in imogolite nanotube case', 'ENTRYTYPE': 'article', 'ID': 'Monet_2020'}, {'url': 'https://doi.org/10.1021%2Facs.langmuir.9b01922', 'doi': '10.1021/acs.langmuir.9b01922', 'pages': '12451--12459', 'number': '38', 'volume': '35', 'publisher': 'American Chemical Society ({ACS})', 'journal': 'Langmuir', 'month': 'aug', 'year': '2019', 'author': 'Erwan Paineau and Geoffrey Monet and Véronique Peyre and Claire Goldmann and Stéphan Rouzière and Pascale Launois', 'title': 'Colloidal Stability of Imogolite Nanotube Dispersions: A Phase Diagram Study', 'ENTRYTYPE': 'article', 'ID': 'Paineau_2019'}, {'url': 'https://doi.org/10.1038%2Fs41467-018-04360-z', 'doi': '10.1038/s41467-018-04360-z', 'number': '1', 'volume': '9', 'publisher': 'Springer Nature', 'journal': 'Nature Communications', 'month': 'may', 'year': '2018', 'author': 'Geoffrey Monet and Mohamed S. Amara and Stéphan Rouzière and Erwan Paineau and Ziwei Chai and Joshua D. Elliott and Emiliano Poli and Li-Min Liu and Gilberto Teobaldi and Pascale Launois', 'title': 'Structural resolution of inorganic nanotubes with complex stoichiometry', 'ENTRYTYPE': 'article', 'ID': 'Monet_2018'}, {'url': 'https://doi.org/10.1021%2Facs.jpcc.7b07391', 'doi': '10.1021/acs.jpcc.7b07391', 'pages': '21740--21749', 'number': '39', 'volume': '121', 'publisher': 'American Chemical Society ({ACS})', 'journal': 'The Journal of Physical Chemistry C', 'month': 'sep', 'year': '2017', 'author': 'Erwan Paineau and Mohamed Salah Amara and Geoffrey Monet and Véronique Peyre and Stéphan Rouzière and Pascale Launois', 'title': 'Effect of Ionic Strength on the Bundling of Metal Oxide Imogolite Nanotubes', 'ENTRYTYPE': 'article', 'ID': 'Paineau_2017'}]\n"
     ]
    }
   ],
   "source": [
    "with open('bibliography.bib', encoding=\"utf-8\") as bibtex_file:\n",
    "    bib_database = bibtexparser.load(bibtex_file)\n",
    "\n",
    "\n",
    "print(bib_database.entries)"
   ]
  },
  {
   "cell_type": "code",
   "execution_count": 2,
   "metadata": {},
   "outputs": [],
   "source": [
    "bibPath = 'bibliography.bib'"
   ]
  },
  {
   "cell_type": "code",
   "execution_count": 15,
   "metadata": {},
   "outputs": [],
   "source": [
    "with open(bibPath, 'r') as f:\n",
    "    text = f.read()"
   ]
  },
  {
   "cell_type": "code",
   "execution_count": 16,
   "metadata": {},
   "outputs": [
    {
     "name": "stdout",
     "output_type": "stream",
     "text": [
      "@article{Geoffrey_Monet_96851714,\n",
      "\ttitle        = {Dipolar Poisson models in a dual view},\n",
      "\tauthor       = {Geoffrey Monet and HÃ©lÃ¨ne Berthoumieux and Geoffrey Monet and Ralf Blossey},\n",
      "\tyear         = 2021,\n",
      "\tjournal      = {The Journal of Chemical Physics},\n",
      "\tdoi          = {10.1063/5.0056430},\n",
      "\turl          = {http://doi.org/10.1063/5.0056430}\n",
      "}\n",
      ",\n",
      "@article{Monet_2021b,\n",
      "\ttitle        = {Mechanisms of Structural Reordering During Thermal Transformation of Aluminogermanate Imogolite Nanotubes},\n",
      "\tauthor       = {Geoffrey Monet and StÃ©phan RouziÃ¨re and Delphine Vantelon and Cristina Coelho Diogo and David Maurin and Jean-Louis Bantignies and Pascale Launois and Erwan Paineau},\n",
      "\tyear         = 2021,\n",
      "\tmonth        = {jun},\n",
      "\tjournal      = {The Journal of Physical Chemistry C},\n",
      "\tpublisher    = {American Chemical Society ({ACS})},\n",
      "\tvolume       = 125,\n",
      "\tnumber       = 22,\n",
      "\tpages        = {12414--12423},\n",
      "\tdoi          = {10.1021/acs.jpcc.1c02852},\n",
      "\turl          = {https://doi.org/10.1021%2Facs.jpcc.1c02852}\n",
      "}\n",
      ",\n",
      "@article{Monet_2021a,\n",
      "\ttitle        = {Nonlocal Dielectric Response of Water in Nanoconfinement},\n",
      "\tauthor       = {G. Monet and H. Berthoumieux and F. Bresme and A. Kornyshev},\n",
      "\tyear         = 2021,\n",
      "\tmonth        = {may},\n",
      "\tjournal      = {Physical Review Letters},\n",
      "\tpublisher    = {American Physical Society ({APS})},\n",
      "\tvolume       = 126,\n",
      "\tnumber       = 21,\n",
      "\tdoi          = {10.1103/physrevlett.126.216001},\n",
      "\turl          = {https://doi.org/10.1103%2Fphysrevlett.126.216001}\n",
      "}\n",
      ",\n",
      "@article{Monet_2020,\n",
      "\ttitle        = {Solid wetting-layers in inorganic nano-reactors: the water in imogolite nanotube case},\n",
      "\tauthor       = {Geoffrey Monet and Erwan Paineau and Ziwei Chai and Mohamed S. Amara and Andrea Orecchini and Monica JimenÃ¨z-Ruiz and Alicia Ruiz-Caridad and Lucas Fine and StÃ©phan RouziÃ¨re and Li-Min Liu and Gilberto Teobaldi and StÃ©phane Rols and Pascale Launois},\n",
      "\tyear         = 2020,\n",
      "\tjournal      = {Nanoscale Advances},\n",
      "\tpublisher    = {Royal Society of Chemistry ({RSC})},\n",
      "\tdoi          = {10.1039/d0na00128g},\n",
      "\turl          = {https://doi.org/10.1039%2Fd0na00128g}\n",
      "}\n",
      ",\n",
      "@article{Paineau_2019,\n",
      "\ttitle        = {Colloidal Stability of Imogolite Nanotube Dispersions: A Phase Diagram Study},\n",
      "\tauthor       = {Erwan Paineau and Geoffrey Monet and VÃ©ronique Peyre and Claire Goldmann and StÃ©phan RouziÃ¨re and Pascale Launois},\n",
      "\tyear         = 2019,\n",
      "\tmonth        = {aug},\n",
      "\tjournal      = {Langmuir},\n",
      "\tpublisher    = {American Chemical Society ({ACS})},\n",
      "\tvolume       = 35,\n",
      "\tnumber       = 38,\n",
      "\tpages        = {12451--12459},\n",
      "\tdoi          = {10.1021/acs.langmuir.9b01922},\n",
      "\turl          = {https://doi.org/10.1021%2Facs.langmuir.9b01922}\n",
      "}\n",
      ",\n",
      "@article{Monet_2018,\n",
      "\ttitle        = {Structural resolution of inorganic nanotubes with complex stoichiometry},\n",
      "\tauthor       = {Geoffrey Monet and Mohamed S. Amara and StÃ©phan RouziÃ¨re and Erwan Paineau and Ziwei Chai and Joshua D. Elliott and Emiliano Poli and Li-Min Liu and Gilberto Teobaldi and Pascale Launois},\n",
      "\tyear         = 2018,\n",
      "\tmonth        = {may},\n",
      "\tjournal      = {Nature Communications},\n",
      "\tpublisher    = {Springer Nature},\n",
      "\tvolume       = 9,\n",
      "\tnumber       = 1,\n",
      "\tdoi          = {10.1038/s41467-018-04360-z},\n",
      "\turl          = {https://doi.org/10.1038%2Fs41467-018-04360-z}\n",
      "}\n",
      ",\n",
      "@article{Paineau_2017,\n",
      "\ttitle        = {Effect of Ionic Strength on the Bundling of Metal Oxide Imogolite Nanotubes},\n",
      "\tauthor       = {Erwan Paineau and Mohamed Salah Amara and Geoffrey Monet and VÃ©ronique Peyre and StÃ©phan RouziÃ¨re and Pascale Launois},\n",
      "\tyear         = 2017,\n",
      "\tmonth        = {sep},\n",
      "\tjournal      = {The Journal of Physical Chemistry C},\n",
      "\tpublisher    = {American Chemical Society ({ACS})},\n",
      "\tvolume       = 121,\n",
      "\tnumber       = 39,\n",
      "\tpages        = {21740--21749},\n",
      "\tdoi          = {10.1021/acs.jpcc.7b07391},\n",
      "\turl          = {https://doi.org/10.1021%2Facs.jpcc.7b07391}\n",
      "}\n",
      "\n"
     ]
    }
   ],
   "source": [
    "print(text)"
   ]
  },
  {
   "cell_type": "code",
   "execution_count": 8,
   "metadata": {},
   "outputs": [],
   "source": [
    "entries = text.split('@')[1:]\n",
    "entry = entries[0]"
   ]
  },
  {
   "cell_type": "code",
   "execution_count": 10,
   "metadata": {},
   "outputs": [
    {
     "name": "stdout",
     "output_type": "stream",
     "text": [
      "article{Geoffrey_Monet_96851714,\n",
      "\ttitle        = {Dipolar Poisson models in a dual view},\n",
      "\tauthor       = {Geoffrey Monet and H{\\'e}l{\\`e}ne Berthoumieux and Geoffrey Monet and Ralf Blossey},\n",
      "\tyear         = 2021,\n",
      "\tjournal      = {The Journal of Chemical Physics},\n",
      "\tdoi          = {10.1063/5.0056430},\n",
      "\turl          = {http://doi.org/10.1063/5.0056430}\n",
      "}\n",
      ",\n",
      "\n"
     ]
    }
   ],
   "source": [
    "print(entry)"
   ]
  },
  {
   "cell_type": "code",
   "execution_count": null,
   "metadata": {},
   "outputs": [],
   "source": []
  }
 ],
 "metadata": {
  "interpreter": {
   "hash": "d4ce2f0b9c719736e7f661a13fe0b346d5bd093966a3397b765b95efddff6c19"
  },
  "kernelspec": {
   "display_name": "Python 3.8.10 ('base')",
   "language": "python",
   "name": "python3"
  },
  "language_info": {
   "codemirror_mode": {
    "name": "ipython",
    "version": 3
   },
   "file_extension": ".py",
   "mimetype": "text/x-python",
   "name": "python",
   "nbconvert_exporter": "python",
   "pygments_lexer": "ipython3",
   "version": "3.8.10"
  },
  "orig_nbformat": 4
 },
 "nbformat": 4,
 "nbformat_minor": 2
}
